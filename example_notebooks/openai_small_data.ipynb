{
 "cells": [
  {
   "cell_type": "code",
   "execution_count": null,
   "metadata": {},
   "outputs": [],
   "source": []
  },
  {
   "cell_type": "markdown",
   "metadata": {},
   "source": [
    "in this notebook we will follow the framework laid out by openai: [link](https://platform.openai.com/docs/guides/fine-tuning/introduction)\n",
    "\n",
    "1. Prepare and upload training data\n",
    "\n",
    "2. Train a new fine-tuned model\n",
    "\n",
    "3. Evaluate results and go back to step 1 if needed\n",
    "\n",
    "4. Use your fine-tuned model\n"
   ]
  },
  {
   "cell_type": "markdown",
   "metadata": {},
   "source": []
  }
 ],
 "metadata": {
  "language_info": {
   "name": "python"
  }
 },
 "nbformat": 4,
 "nbformat_minor": 2
}
